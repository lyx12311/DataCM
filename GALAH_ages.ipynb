{
 "cells": [
  {
   "cell_type": "code",
   "execution_count": 1,
   "metadata": {},
   "outputs": [],
   "source": [
    "from HeaderP import *\n",
    "import pandas as pd"
   ]
  },
  {
   "cell_type": "code",
   "execution_count": 142,
   "metadata": {},
   "outputs": [],
   "source": [
    "galah_apogee=pd.read_pickle('Data/GALAH_APOGEE_APOCAN.pkl').reset_index(drop=True)"
   ]
  },
  {
   "cell_type": "code",
   "execution_count": 43,
   "metadata": {},
   "outputs": [],
   "source": [
    "sourceid=galah_apogee['sobject_id'].values\n"
   ]
  },
  {
   "cell_type": "code",
   "execution_count": 85,
   "metadata": {
    "scrolled": true
   },
   "outputs": [],
   "source": [
    "spec=np.zeros((len(sourceid),13))\n",
    "\n",
    "from astropy.io import fits\n",
    "spname='/Users/yl4331/Desktop/CreateDataTable/Data/GALAH_APOGEE_APOCAN_Spectra/'\n",
    "for i in range(len(sourceid)):\n",
    "    count=0\n",
    "    spec[i,-1]=sourceid[i]\n",
    "    for j in range(4):\n",
    "        newspname=spname+str(int(sourceid[i]))+str(j+1)+'.fits'\n",
    "        \n",
    "        try:\n",
    "            data=fits.open(newspname)[0]\n",
    "            spec[i,count]=data.header['CRVAL1']\n",
    "            spec[i,count+1]=data.header['CDELT1']*len(data.data)+spec[i,count]\n",
    "            spec[i,count+2]=len(data.data)\n",
    "            count=count+3\n",
    "        except:\n",
    "            spec[i,count]=np.nan\n",
    "            spec[i,count+1]=np.nan\n",
    "            spec[i,count+2]=np.nan\n",
    "            count=count+3\n",
    "        \n"
   ]
  },
  {
   "cell_type": "code",
   "execution_count": 86,
   "metadata": {},
   "outputs": [
    {
     "data": {
      "text/plain": [
       "(745, 13)"
      ]
     },
     "execution_count": 86,
     "metadata": {},
     "output_type": "execute_result"
    }
   ],
   "source": [
    "useablespec=pd.DataFrame(spec).dropna().values\n",
    "np.shape(useablespec)"
   ]
  },
  {
   "cell_type": "code",
   "execution_count": 90,
   "metadata": {},
   "outputs": [
    {
     "name": "stdout",
     "output_type": "stream",
     "text": [
      "4712.431640625\n",
      "4900.7544733478335\n",
      "4096.0\n",
      "5647.21435546871\n",
      "5871.190423844779\n",
      "4096.0\n",
      "6476.16650390621\n",
      "6734.878103417812\n",
      "4096.0\n",
      "7584.39892578121\n",
      "7885.629173582504\n",
      "4096.0\n",
      "131123004101251.0\n"
     ]
    }
   ],
   "source": [
    "for i in range(13):\n",
    "    print(max(useablespec[:,i]))"
   ]
  },
  {
   "cell_type": "code",
   "execution_count": 107,
   "metadata": {},
   "outputs": [],
   "source": [
    "from scipy import interpolate\n",
    "def interpolate_to_grid(xdata, ydata, xgrid):\n",
    "    f = interpolate.interp1d(xdata, ydata)\n",
    "    new_ydata= f(xgrid)\n",
    "    return xgrid, new_ydata"
   ]
  },
  {
   "cell_type": "code",
   "execution_count": 110,
   "metadata": {},
   "outputs": [],
   "source": [
    "wl=np.zeros((4096,4))\n",
    "count=0\n",
    "for i in range(4):\n",
    "    wl[:,i]=np.linspace(max(useablespec[:,count]),min(useablespec[:,count+1]),4096)\n",
    "    count=count+3"
   ]
  },
  {
   "cell_type": "code",
   "execution_count": 185,
   "metadata": {},
   "outputs": [],
   "source": [
    "import scipy\n",
    "fluxs=np.zeros((4096,4,np.shape(useablespec)[0]))\n",
    "ivars=np.zeros((4096,4,np.shape(useablespec)[0]))\n",
    "for i in range(np.shape(useablespec)[0]):\n",
    "    spname='/Users/yl4331/Desktop/CreateDataTable/Data/GALAH_APOGEE_APOCAN_Spectra/'\n",
    "    count=0\n",
    "    for j in range(4):\n",
    "        # read in spectra\n",
    "        newspname=spname+str(int(useablespec[i,-1]))+str(j+1)+'.fits'\n",
    "        \n",
    "        # get what the old wl is\n",
    "        wl_old=np.linspace(useablespec[i,count],useablespec[i,count+1],int(useablespec[i,count+2]))\n",
    "        count=count+3\n",
    "         \n",
    "        # get old flux/ivar\n",
    "        flux=fits.open(newspname)[0].data # load in unnormalized flux\n",
    "        ivar=fits.open(newspname)[1].data*flux # load in ivar\n",
    "        \n",
    "        __, new_flux = interpolate_to_grid(wl_old, flux, wl[:,j]) # on common grid\n",
    "        __, new_ivar = interpolate_to_grid(wl_old, ivar, wl[:,j]) # on common grid\n",
    "        \n",
    "        flux_norm = new_flux/scipy.ndimage.gaussian_filter1d(new_flux, 1087) # normalize flux\n",
    "        ivar_norm = (new_ivar/flux_norm)**-2 # normalize ivar\n",
    "        \n",
    "        fluxs[:,j,i]=flux_norm\n",
    "        ivars[:,j,i]=ivar_norm"
   ]
  },
  {
   "cell_type": "code",
   "execution_count": 186,
   "metadata": {},
   "outputs": [],
   "source": [
    "tr_ID=useablespec[:,-1]\n",
    "tr_flux=np.zeros((np.shape(useablespec)[0],4096*4))\n",
    "tr_ivar=np.zeros((np.shape(useablespec)[0],4096*4))\n",
    "wl_all=np.zeros(4096*4)\n"
   ]
  },
  {
   "cell_type": "code",
   "execution_count": 187,
   "metadata": {},
   "outputs": [],
   "source": [
    "for i in range(4):\n",
    "    wl_all[4096*i:4096*(i+1)]=wl[:,i]\n",
    "    for j in range(len(tr_ID)):\n",
    "        tr_flux[j,4096*i:4096*(i+1)]=fluxs[:,i,j]\n",
    "        tr_ivar[j,4096*i:4096*(i+1)]=ivars[:,i,j]"
   ]
  },
  {
   "cell_type": "code",
   "execution_count": 188,
   "metadata": {},
   "outputs": [],
   "source": [
    "# get training labels from APOGEE\n",
    "# get the dataframe for labels\n",
    "labels=galah_apogee.loc[pd.DataFrame(spec).dropna().index]\n",
    "\n",
    "cannonage=pd.read_pickle('../SecondYear/CannonDR16.pkl')\n",
    "labels=labels.merge(cannonage[['APOGEE_ID','Age','DP','Dnu']], left_on='APOGEE_ID',right_on='APOGEE_ID',how=\"inner\")\n",
    "\n",
    "\n",
    "labelnames=['M_H','TEFF','LOGG','MG_FE','DP','Dnu','Age']\n",
    "\n",
    "tr_label=labels[labelnames].values\n"
   ]
  },
  {
   "cell_type": "code",
   "execution_count": 189,
   "metadata": {},
   "outputs": [
    {
     "name": "stdout",
     "output_type": "stream",
     "text": [
      "(745,)\n",
      "(16384,)\n",
      "(745, 16384)\n",
      "(745, 16384)\n",
      "(745, 7)\n"
     ]
    }
   ],
   "source": [
    "print(tr_ID.shape)\n",
    "print(wl_all.shape)\n",
    "print(tr_flux.shape)\n",
    "print(tr_ivar.shape)\n",
    "print(tr_label.shape)\n"
   ]
  },
  {
   "cell_type": "code",
   "execution_count": 190,
   "metadata": {},
   "outputs": [
    {
     "data": {
      "text/plain": [
       "[<matplotlib.lines.Line2D at 0x7f825a10eb50>]"
      ]
     },
     "execution_count": 190,
     "metadata": {},
     "output_type": "execute_result"
    },
    {
     "data": {
      "image/png": "[encoded data removed]",
      "text/plain": [
       "<Figure size 2160x576 with 2 Axes>"
      ]
     },
     "metadata": {
      "needs_background": "light"
     },
     "output_type": "display_data"
    }
   ],
   "source": [
    "# plot one spectra\n",
    "plt.figure(figsize=(30,8))\n",
    "plt.subplot(1,2,1)\n",
    "plt.plot(wl_all,tr_flux[0,:],'k-')\n",
    "\n",
    "plt.subplot(1,2,2)\n",
    "plt.plot(wl_all,tr_ivar[0,:],'k-')"
   ]
  },
  {
   "cell_type": "code",
   "execution_count": 191,
   "metadata": {},
   "outputs": [],
   "source": [
    "test_ID = tr_ID\n",
    "test_flux = tr_flux\n",
    "test_ivar = tr_ivar\n"
   ]
  },
  {
   "cell_type": "code",
   "execution_count": 192,
   "metadata": {},
   "outputs": [
    {
     "name": "stdout",
     "output_type": "stream",
     "text": [
      "Loading dataset\n",
      "This may take a while...\n"
     ]
    }
   ],
   "source": [
    "from TheCannon import dataset\n",
    "ds = dataset.Dataset(wl_all, tr_ID, tr_flux, tr_ivar, tr_label, test_ID, test_flux, test_ivar)"
   ]
  },
  {
   "cell_type": "code",
   "execution_count": 193,
   "metadata": {},
   "outputs": [],
   "source": [
    "ds.set_label_names(labelnames)"
   ]
  },
  {
   "cell_type": "code",
   "execution_count": 194,
   "metadata": {},
   "outputs": [
    {
     "name": "stdout",
     "output_type": "stream",
     "text": [
      "Diagnostic for SNRs of reference and survey objects\n"
     ]
    },
    {
     "data": {
      "image/png": "[encoded data removed]",
      "text/plain": [
       "<Figure size 720x720 with 1 Axes>"
      ]
     },
     "metadata": {
      "needs_background": "light"
     },
     "output_type": "display_data"
    }
   ],
   "source": [
    "fig = ds.diagnostics_SNR()"
   ]
  },
  {
   "cell_type": "code",
   "execution_count": 176,
   "metadata": {},
   "outputs": [
    {
     "name": "stdout",
     "output_type": "stream",
     "text": [
      "Done training model. \n"
     ]
    }
   ],
   "source": [
    "from TheCannon import model\n",
    "md = model.CannonModel(2, useErrors=False)\n",
    "md.fit(ds)"
   ]
  },
  {
   "cell_type": "code",
   "execution_count": 178,
   "metadata": {},
   "outputs": [
    {
     "name": "stdout",
     "output_type": "stream",
     "text": [
      "Diagnostic plot: leading coeffs and scatters across wavelength.\n",
      "Diagnostic plot: histogram of the red chi squareds of the fit\n",
      "Saved as modelfit_chisqs.png\n"
     ]
    }
   ],
   "source": [
    "md.diagnostics_leading_coeffs(ds)\n",
    "md.diagnostics_plot_chisq(ds)"
   ]
  },
  {
   "cell_type": "code",
   "execution_count": 179,
   "metadata": {},
   "outputs": [
    {
     "name": "stdout",
     "output_type": "stream",
     "text": [
      "Inferring Labels\n",
      "Diagnostic for label output vs. input\n",
      "Saved fig 1to1_label_0.png\n",
      "Diagnostic for label output vs. input\n",
      "Saved fig 1to1_label_1.png\n",
      "Diagnostic for label output vs. input\n",
      "Saved fig 1to1_label_2.png\n",
      "Diagnostic for label output vs. input\n",
      "Saved fig 1to1_label_3.png\n",
      "Diagnostic for label output vs. input\n",
      "Saved fig 1to1_label_4.png\n",
      "Diagnostic for label output vs. input\n",
      "Saved fig 1to1_label_5.png\n",
      "Diagnostic for label output vs. input\n",
      "Saved fig 1to1_label_6.png\n"
     ]
    }
   ],
   "source": [
    "label_errs = md.infer_labels(ds)\n",
    "test_labels = ds.test_label_vals\n",
    "ds.diagnostics_1to1()"
   ]
  },
  {
   "cell_type": "code",
   "execution_count": null,
   "metadata": {},
   "outputs": [],
   "source": []
  }
 ],
 "metadata": {
  "kernelspec": {
   "display_name": "Python 3",
   "language": "python",
   "name": "python3"
  },
  "language_info": {
   "codemirror_mode": {
    "name": "ipython",
    "version": 3
   },
   "file_extension": ".py",
   "mimetype": "text/x-python",
   "name": "python",
   "nbconvert_exporter": "python",
   "pygments_lexer": "ipython3",
   "version": "3.8.5"
  }
 },
 "nbformat": 4,
 "nbformat_minor": 4
}
