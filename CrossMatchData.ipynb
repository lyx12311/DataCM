{
 "cells": [
  {
   "cell_type": "code",
   "execution_count": 1,
   "metadata": {},
   "outputs": [],
   "source": [
    "from HeaderP import *\n"
   ]
  },
  {
   "cell_type": "code",
   "execution_count": 37,
   "metadata": {},
   "outputs": [
    {
     "name": "stderr",
     "output_type": "stream",
     "text": [
      "/opt/homebrew/anaconda3/lib/python3.8/site-packages/IPython/core/interactiveshell.py:3146: DtypeWarning: Columns (30) have mixed types.Specify dtype option on import or set low_memory=False.\n",
      "  has_raised = await self.run_ast_nodes(code_ast.body, cell_name,\n"
     ]
    }
   ],
   "source": [
    "APOGEE=pd.read_pickle('./Data/APOGEE_dr16.pkl')\n",
    "GALAH=pd.read_pickle('./Data/galah_dr3_gaia_cm.pkl')\n",
    "Kepler_prot=pd.read_pickle('./Data/Kepler_Periodic.pkl')\n",
    "Kepler_nonprot=pd.read_pickle('./Data/Kepler_Non_Periodic.pkl')\n",
    "RAVE=pd.read_csv('./Data/ravedr6.csv')\n",
    "LAMOST=pd.read_csv('./Data/LAMOST_dr6_v2_LRS.csv',delimiter='|')\n",
    "TESS=pd.read_pickle('./Data/TESS_target.pkl')\n",
    "\n"
   ]
  },
  {
   "cell_type": "code",
   "execution_count": 39,
   "metadata": {},
   "outputs": [],
   "source": [
    "APOGEE['survey']='APOGEE'\n",
    "APOGEE['ra']=APOGEE['RA']\n",
    "APOGEE['dec']=APOGEE['DEC']\n",
    "APOGEE['dtypes']='spectra'\n",
    "\n",
    "\n",
    "GALAH['survey']='GALAH'\n",
    "GALAH['ra']=GALAH['ra_x']\n",
    "GALAH['dec']=GALAH['dec_x']\n",
    "GALAH['dtypes']='spectra'\n",
    "\n",
    "\n",
    "Kepler_prot['survey']='Kepler'\n",
    "Kepler_prot['dtypes']='Prot, lightcurves'\n",
    "\n",
    "RAVE['survey']='RAVE'\n",
    "RAVE['color']='orange'\n",
    "RAVE['dtypes']='spectra'\n",
    "\n",
    "LAMOST['survey']='LAMOST'\n",
    "LAMOST['dtypes']='spectra'\n",
    "\n",
    "\n",
    "TESS['survey']='TESS'\n",
    "TESS['ra']=TESS['RA']\n",
    "TESS['dec']=TESS['Dec']\n",
    "TESS['dtypes']='lightcurves'"
   ]
  },
  {
   "cell_type": "code",
   "execution_count": 67,
   "metadata": {},
   "outputs": [],
   "source": [
    "SurveyDic={0:APOGEE,1:GALAH,2:Kepler_prot,3:Kepler_nonprot,4:RAVE,5:LAMOST,6:TESS}\n",
    "SurveyDic_name={0:'APOGEE',1:'GALAH',2:'Kepler_prot',3:'Kepler_nonprot',4:'RAVE',5:'LAMOST',6:'TESS'}\n"
   ]
  },
  {
   "cell_type": "code",
   "execution_count": 90,
   "metadata": {},
   "outputs": [],
   "source": [
    "from itertools import combinations\n",
    "\n",
    "cms=list(combinations(range(7), 2))\n",
    "for i in range(3,7):\n",
    "    newlist=list(combinations(range(7), i))\n",
    "    for j in newlist:\n",
    "        cms.append(j)\n"
   ]
  },
  {
   "cell_type": "code",
   "execution_count": 91,
   "metadata": {},
   "outputs": [
    {
     "data": {
      "text/plain": [
       "119"
      ]
     },
     "execution_count": 91,
     "metadata": {},
     "output_type": "execute_result"
    }
   ],
   "source": [
    "len(cms)"
   ]
  },
  {
   "cell_type": "code",
   "execution_count": 92,
   "metadata": {},
   "outputs": [],
   "source": [
    "def crossmatch(df1,df2,sep=1.2):\n",
    "    # df1\n",
    "    c1 = SkyCoord([i*u.deg for i in df1['ra']], [i*u.deg for i in df1['dec']], frame='icrs')\n",
    "    # apogee\n",
    "    c2 = SkyCoord([i*u.deg for i in df2['ra']], [i*u.deg for i in df2['dec']], frame='icrs')\n",
    "    # cross-match\n",
    "    idx_sdss, d2d_sdss, d3d_sdss = c2.match_to_catalog_sky(c1)\n",
    "    idx=idx_sdss[d2d_sdss<sep*u.arcsec]\n",
    "    d2d=d2d_sdss[d2d_sdss<sep*u.arcsec]\n",
    "\n",
    "    df1df2=df2[d2d_sdss<sep*u.arcsec]\n",
    "    for i in df1.columns:\n",
    "        df1df2[i]=df1.iloc[idx][i].values\n",
    "        \n",
    "    return df1df2"
   ]
  },
  {
   "cell_type": "code",
   "execution_count": 89,
   "metadata": {},
   "outputs": [
    {
     "name": "stderr",
     "output_type": "stream",
     "text": [
      "  0%|          | 0/63 [00:00<?, ?it/s]<ipython-input-80-dbb9872c85d2>:13: SettingWithCopyWarning: \n",
      "A value is trying to be set on a copy of a slice from a DataFrame.\n",
      "Try using .loc[row_indexer,col_indexer] = value instead\n",
      "\n",
      "See the caveats in the documentation: https://pandas.pydata.org/pandas-docs/stable/user_guide/indexing.html#returning-a-view-versus-a-copy\n",
      "  df1df2[i]=df1.iloc[idx][i].values\n"
     ]
    },
    {
     "name": "stdout",
     "output_type": "stream",
     "text": [
      "APOGEE_cm_GALAH\n",
      "Kepler_prot\n"
     ]
    },
    {
     "name": "stderr",
     "output_type": "stream",
     "text": [
      "\r",
      "  2%|▏         | 1/63 [00:33<34:49, 33.71s/it]"
     ]
    },
    {
     "name": "stdout",
     "output_type": "stream",
     "text": [
      "0\n",
      "APOGEE_cm_GALAH\n",
      "Kepler_prot\n"
     ]
    },
    {
     "name": "stderr",
     "output_type": "stream",
     "text": [
      "\r",
      "  3%|▎         | 2/63 [01:07<34:14, 33.68s/it]"
     ]
    },
    {
     "name": "stdout",
     "output_type": "stream",
     "text": [
      "0\n",
      "APOGEE_cm_GALAH\n",
      "Kepler_prot\n"
     ]
    },
    {
     "name": "stderr",
     "output_type": "stream",
     "text": [
      "\r",
      "  5%|▍         | 3/63 [01:40<33:38, 33.64s/it]"
     ]
    },
    {
     "name": "stdout",
     "output_type": "stream",
     "text": [
      "0\n",
      "APOGEE_cm_GALAH\n",
      "Kepler_prot\n"
     ]
    },
    {
     "name": "stderr",
     "output_type": "stream",
     "text": [
      "\r",
      "  6%|▋         | 4/63 [02:14<33:02, 33.60s/it]"
     ]
    },
    {
     "name": "stdout",
     "output_type": "stream",
     "text": [
      "0\n",
      "APOGEE_cm_GALAH\n",
      "Kepler_nonprot\n"
     ]
    },
    {
     "name": "stderr",
     "output_type": "stream",
     "text": [
      "\r",
      "  8%|▊         | 5/63 [02:49<32:59, 34.13s/it]"
     ]
    },
    {
     "name": "stdout",
     "output_type": "stream",
     "text": [
      "0\n",
      "APOGEE_cm_GALAH\n",
      "Kepler_nonprot\n"
     ]
    },
    {
     "name": "stderr",
     "output_type": "stream",
     "text": [
      "\r",
      " 10%|▉         | 6/63 [03:24<32:44, 34.47s/it]"
     ]
    },
    {
     "name": "stdout",
     "output_type": "stream",
     "text": [
      "0\n",
      "APOGEE_cm_GALAH\n",
      "Kepler_nonprot\n"
     ]
    },
    {
     "name": "stderr",
     "output_type": "stream",
     "text": [
      "\r",
      " 11%|█         | 7/63 [04:00<32:33, 34.89s/it]"
     ]
    },
    {
     "name": "stdout",
     "output_type": "stream",
     "text": [
      "0\n",
      "APOGEE_cm_GALAH\n",
      "RAVE\n",
      "1176\n",
      "LAMOST\n"
     ]
    },
    {
     "name": "stderr",
     "output_type": "stream",
     "text": [
      "\r",
      " 13%|█▎        | 8/63 [09:36<1:54:39, 125.08s/it]"
     ]
    },
    {
     "name": "stdout",
     "output_type": "stream",
     "text": [
      "72\n",
      "APOGEE_cm_GALAH\n",
      "RAVE\n",
      "1176\n",
      "TESS\n"
     ]
    },
    {
     "name": "stderr",
     "output_type": "stream",
     "text": [
      "\r",
      " 14%|█▍        | 9/63 [10:45<1:37:28, 108.30s/it]"
     ]
    },
    {
     "name": "stdout",
     "output_type": "stream",
     "text": [
      "2396\n",
      "APOGEE_cm_GALAH\n",
      "LAMOST\n",
      "5998\n",
      "TESS\n"
     ]
    },
    {
     "name": "stderr",
     "output_type": "stream",
     "text": [
      "\r",
      " 16%|█▌        | 10/63 [16:21<2:36:00, 176.61s/it]"
     ]
    },
    {
     "name": "stdout",
     "output_type": "stream",
     "text": [
      "27\n",
      "APOGEE_cm_Kepler_prot\n",
      "Kepler_nonprot\n"
     ]
    },
    {
     "name": "stderr",
     "output_type": "stream",
     "text": [
      "\r",
      " 17%|█▋        | 11/63 [16:38<1:51:37, 128.80s/it]"
     ]
    },
    {
     "name": "stdout",
     "output_type": "stream",
     "text": [
      "0\n",
      "APOGEE_cm_Kepler_prot\n",
      "Kepler_nonprot\n"
     ]
    },
    {
     "name": "stderr",
     "output_type": "stream",
     "text": [
      "\r",
      " 19%|█▉        | 12/63 [16:56<1:21:01, 95.33s/it] "
     ]
    },
    {
     "name": "stdout",
     "output_type": "stream",
     "text": [
      "0\n",
      "APOGEE_cm_Kepler_prot\n",
      "Kepler_nonprot\n"
     ]
    },
    {
     "name": "stderr",
     "output_type": "stream",
     "text": [
      "\r",
      " 21%|██        | 13/63 [17:13<59:55, 71.92s/it]  "
     ]
    },
    {
     "name": "stdout",
     "output_type": "stream",
     "text": [
      "0\n",
      "APOGEE_cm_Kepler_prot\n",
      "RAVE\n"
     ]
    },
    {
     "name": "stderr",
     "output_type": "stream",
     "text": [
      "\r",
      " 22%|██▏       | 14/63 [17:43<48:24, 59.27s/it]"
     ]
    },
    {
     "name": "stdout",
     "output_type": "stream",
     "text": [
      "0\n",
      "APOGEE_cm_Kepler_prot\n",
      "RAVE\n"
     ]
    },
    {
     "name": "stderr",
     "output_type": "stream",
     "text": [
      "\r",
      " 24%|██▍       | 15/63 [18:12<40:20, 50.43s/it]"
     ]
    },
    {
     "name": "stdout",
     "output_type": "stream",
     "text": [
      "0\n",
      "APOGEE_cm_Kepler_prot\n",
      "LAMOST\n",
      "3396\n",
      "TESS\n"
     ]
    },
    {
     "name": "stderr",
     "output_type": "stream",
     "text": [
      "\r",
      " 25%|██▌       | 16/63 [23:24<1:40:49, 128.71s/it]"
     ]
    },
    {
     "name": "stdout",
     "output_type": "stream",
     "text": [
      "168\n",
      "APOGEE_cm_Kepler_nonprot\n",
      "RAVE\n"
     ]
    },
    {
     "name": "stderr",
     "output_type": "stream",
     "text": [
      "\r",
      " 27%|██▋       | 17/63 [23:56<1:16:22, 99.63s/it] "
     ]
    },
    {
     "name": "stdout",
     "output_type": "stream",
     "text": [
      "0\n",
      "APOGEE_cm_Kepler_nonprot\n",
      "RAVE\n"
     ]
    },
    {
     "name": "stderr",
     "output_type": "stream",
     "text": [
      "\r",
      " 29%|██▊       | 18/63 [24:27<59:25, 79.24s/it]  "
     ]
    },
    {
     "name": "stdout",
     "output_type": "stream",
     "text": [
      "0\n",
      "APOGEE_cm_Kepler_nonprot\n",
      "LAMOST\n",
      "3850\n",
      "TESS\n"
     ]
    },
    {
     "name": "stderr",
     "output_type": "stream",
     "text": [
      "\r",
      " 30%|███       | 19/63 [29:39<1:49:16, 149.02s/it]"
     ]
    },
    {
     "name": "stdout",
     "output_type": "stream",
     "text": [
      "72\n",
      "APOGEE_cm_RAVE\n",
      "LAMOST\n",
      "833\n",
      "TESS\n"
     ]
    },
    {
     "name": "stderr",
     "output_type": "stream",
     "text": [
      "\r",
      " 32%|███▏      | 20/63 [35:08<2:25:34, 203.13s/it]"
     ]
    },
    {
     "name": "stdout",
     "output_type": "stream",
     "text": [
      "32\n"
     ]
    },
    {
     "name": "stderr",
     "output_type": "stream",
     "text": [
      " 46%|████▌     | 29/63 [37:40<14:09, 24.98s/it]   "
     ]
    },
    {
     "name": "stdout",
     "output_type": "stream",
     "text": [
      "GALAH_cm_RAVE\n",
      "LAMOST\n",
      "799\n",
      "TESS\n"
     ]
    },
    {
     "name": "stderr",
     "output_type": "stream",
     "text": [
      "\r",
      " 48%|████▊     | 30/63 [43:39<1:08:43, 124.95s/it]"
     ]
    },
    {
     "name": "stdout",
     "output_type": "stream",
     "text": [
      "27\n"
     ]
    },
    {
     "name": "stderr",
     "output_type": "stream",
     "text": [
      " 56%|█████▌    | 35/63 [44:30<15:20, 32.86s/it]   "
     ]
    },
    {
     "name": "stdout",
     "output_type": "stream",
     "text": [
      "APOGEE_cm_GALAH\n",
      "Kepler_prot\n"
     ]
    },
    {
     "name": "stderr",
     "output_type": "stream",
     "text": [
      "\r",
      " 57%|█████▋    | 36/63 [45:09<15:34, 34.61s/it]"
     ]
    },
    {
     "name": "stdout",
     "output_type": "stream",
     "text": [
      "0\n",
      "APOGEE_cm_GALAH\n",
      "Kepler_prot\n"
     ]
    },
    {
     "name": "stderr",
     "output_type": "stream",
     "text": [
      "\r",
      " 59%|█████▊    | 37/63 [45:43<14:59, 34.59s/it]"
     ]
    },
    {
     "name": "stdout",
     "output_type": "stream",
     "text": [
      "0\n",
      "APOGEE_cm_GALAH\n",
      "Kepler_prot\n"
     ]
    },
    {
     "name": "stderr",
     "output_type": "stream",
     "text": [
      "\r",
      " 60%|██████    | 38/63 [46:18<14:23, 34.52s/it]"
     ]
    },
    {
     "name": "stdout",
     "output_type": "stream",
     "text": [
      "0\n",
      "APOGEE_cm_GALAH\n",
      "Kepler_prot\n"
     ]
    },
    {
     "name": "stderr",
     "output_type": "stream",
     "text": [
      "\r",
      " 62%|██████▏   | 39/63 [46:52<13:44, 34.34s/it]"
     ]
    },
    {
     "name": "stdout",
     "output_type": "stream",
     "text": [
      "0\n",
      "APOGEE_cm_GALAH\n",
      "Kepler_prot\n"
     ]
    },
    {
     "name": "stderr",
     "output_type": "stream",
     "text": [
      "\r",
      " 63%|██████▎   | 40/63 [47:26<13:09, 34.34s/it]"
     ]
    },
    {
     "name": "stdout",
     "output_type": "stream",
     "text": [
      "0\n",
      "APOGEE_cm_GALAH\n",
      "Kepler_prot\n"
     ]
    },
    {
     "name": "stderr",
     "output_type": "stream",
     "text": [
      "\r",
      " 65%|██████▌   | 41/63 [48:01<12:37, 34.44s/it]"
     ]
    },
    {
     "name": "stdout",
     "output_type": "stream",
     "text": [
      "0\n",
      "APOGEE_cm_GALAH\n",
      "Kepler_nonprot\n"
     ]
    },
    {
     "name": "stderr",
     "output_type": "stream",
     "text": [
      "\r",
      " 67%|██████▋   | 42/63 [48:37<12:15, 35.01s/it]"
     ]
    },
    {
     "name": "stdout",
     "output_type": "stream",
     "text": [
      "0\n",
      "APOGEE_cm_GALAH\n",
      "Kepler_nonprot\n"
     ]
    },
    {
     "name": "stderr",
     "output_type": "stream",
     "text": [
      "\r",
      " 68%|██████▊   | 43/63 [49:13<11:46, 35.34s/it]"
     ]
    },
    {
     "name": "stdout",
     "output_type": "stream",
     "text": [
      "0\n",
      "APOGEE_cm_GALAH\n",
      "Kepler_nonprot\n"
     ]
    },
    {
     "name": "stderr",
     "output_type": "stream",
     "text": [
      "\r",
      " 70%|██████▉   | 44/63 [49:49<11:14, 35.49s/it]"
     ]
    },
    {
     "name": "stdout",
     "output_type": "stream",
     "text": [
      "0\n",
      "APOGEE_cm_GALAH\n",
      "RAVE\n",
      "1176\n",
      "LAMOST\n",
      "72\n",
      "TESS\n"
     ]
    },
    {
     "name": "stderr",
     "output_type": "stream",
     "text": [
      "\r",
      " 71%|███████▏  | 45/63 [55:30<38:10, 127.26s/it]"
     ]
    },
    {
     "name": "stdout",
     "output_type": "stream",
     "text": [
      "0\n",
      "APOGEE_cm_Kepler_prot\n",
      "Kepler_nonprot\n"
     ]
    },
    {
     "name": "stderr",
     "output_type": "stream",
     "text": [
      "\r",
      " 73%|███████▎  | 46/63 [55:47<26:39, 94.11s/it] "
     ]
    },
    {
     "name": "stdout",
     "output_type": "stream",
     "text": [
      "0\n",
      "APOGEE_cm_Kepler_prot\n",
      "Kepler_nonprot\n"
     ]
    },
    {
     "name": "stderr",
     "output_type": "stream",
     "text": [
      "\r",
      " 75%|███████▍  | 47/63 [56:04<18:56, 71.04s/it]"
     ]
    },
    {
     "name": "stdout",
     "output_type": "stream",
     "text": [
      "0\n",
      "APOGEE_cm_Kepler_prot\n",
      "Kepler_nonprot\n"
     ]
    },
    {
     "name": "stderr",
     "output_type": "stream",
     "text": [
      "\r",
      " 76%|███████▌  | 48/63 [56:22<13:44, 54.99s/it]"
     ]
    },
    {
     "name": "stdout",
     "output_type": "stream",
     "text": [
      "0\n",
      "APOGEE_cm_Kepler_prot\n",
      "RAVE\n"
     ]
    },
    {
     "name": "stderr",
     "output_type": "stream",
     "text": [
      "\r",
      " 78%|███████▊  | 49/63 [56:52<11:07, 47.65s/it]"
     ]
    },
    {
     "name": "stdout",
     "output_type": "stream",
     "text": [
      "0\n",
      "APOGEE_cm_Kepler_nonprot\n",
      "RAVE\n"
     ]
    },
    {
     "name": "stderr",
     "output_type": "stream",
     "text": [
      "\r",
      " 79%|███████▉  | 50/63 [57:25<09:20, 43.14s/it]"
     ]
    },
    {
     "name": "stdout",
     "output_type": "stream",
     "text": [
      "0\n"
     ]
    },
    {
     "name": "stderr",
     "output_type": "stream",
     "text": [
      " 89%|████████▉ | 56/63 [58:53<01:53, 16.18s/it]"
     ]
    },
    {
     "name": "stdout",
     "output_type": "stream",
     "text": [
      "APOGEE_cm_GALAH\n",
      "Kepler_prot\n"
     ]
    },
    {
     "name": "stderr",
     "output_type": "stream",
     "text": [
      "\r",
      " 90%|█████████ | 57/63 [59:30<02:15, 22.53s/it]"
     ]
    },
    {
     "name": "stdout",
     "output_type": "stream",
     "text": [
      "0\n",
      "APOGEE_cm_GALAH\n",
      "Kepler_prot\n"
     ]
    },
    {
     "name": "stderr",
     "output_type": "stream",
     "text": [
      "\r",
      " 92%|█████████▏| 58/63 [1:00:05<02:10, 26.10s/it]"
     ]
    },
    {
     "name": "stdout",
     "output_type": "stream",
     "text": [
      "0\n",
      "APOGEE_cm_GALAH\n",
      "Kepler_prot\n"
     ]
    },
    {
     "name": "stderr",
     "output_type": "stream",
     "text": [
      "\r",
      " 94%|█████████▎| 59/63 [1:00:40<01:55, 28.76s/it]"
     ]
    },
    {
     "name": "stdout",
     "output_type": "stream",
     "text": [
      "0\n",
      "APOGEE_cm_GALAH\n",
      "Kepler_prot\n"
     ]
    },
    {
     "name": "stderr",
     "output_type": "stream",
     "text": [
      "\r",
      " 95%|█████████▌| 60/63 [1:01:15<01:31, 30.64s/it]"
     ]
    },
    {
     "name": "stdout",
     "output_type": "stream",
     "text": [
      "0\n",
      "APOGEE_cm_GALAH\n",
      "Kepler_nonprot\n"
     ]
    },
    {
     "name": "stderr",
     "output_type": "stream",
     "text": [
      "\r",
      " 97%|█████████▋| 61/63 [1:01:51<01:04, 32.25s/it]"
     ]
    },
    {
     "name": "stdout",
     "output_type": "stream",
     "text": [
      "0\n",
      "APOGEE_cm_Kepler_prot\n",
      "Kepler_nonprot\n"
     ]
    },
    {
     "name": "stderr",
     "output_type": "stream",
     "text": [
      "\r",
      " 98%|█████████▊| 62/63 [1:02:08<00:27, 27.81s/it]"
     ]
    },
    {
     "name": "stdout",
     "output_type": "stream",
     "text": [
      "0\n"
     ]
    },
    {
     "name": "stderr",
     "output_type": "stream",
     "text": [
      "100%|██████████| 63/63 [1:02:25<00:00, 59.45s/it]\n"
     ]
    }
   ],
   "source": [
    "from tqdm import trange\n",
    "\n",
    "for i in trange(len(cms)):\n",
    "    # how many surveys to cm\n",
    "    cmlen=len(cms[i])\n",
    "    \n",
    "    df1df2=crossmatch(SurveyDic[cms[i][0]],SurveyDic[cms[i][1]])\n",
    "    cmname=SurveyDic_name[cms[i][0]]+'_cm_'+SurveyDic_name[cms[i][1]]\n",
    "    if len(df1df2)==0:\n",
    "        continue\n",
    "    print(cmname)\n",
    "    if cmlen>2:\n",
    "        for j in range(1,cmlen-1):\n",
    "            print(SurveyDic_name[cms[i][j+1]])\n",
    "            df1df2=crossmatch(df1df2,SurveyDic[cms[i][j+1]])\n",
    "            cmname=cmname+'_cm_'+SurveyDic_name[cms[i][j+1]]\n",
    "            print(len(df1df2))\n",
    "            if len(df1df2)==0:\n",
    "                break\n",
    "        if len(df1df2)!=0:\n",
    "            df1df2.to_pickle('Data/'+cmname+'.pkl')"
   ]
  },
  {
   "cell_type": "code",
   "execution_count": 104,
   "metadata": {},
   "outputs": [
    {
     "name": "stdout",
     "output_type": "stream",
     "text": [
      "['APOGEE', 'GALAH'] , 2 , 14399\n",
      "['APOGEE', 'Kepler_prot'] , 2 , 2108\n",
      "['APOGEE', 'Kepler_nonprot'] , 2 , 2388\n",
      "['APOGEE', 'RAVE'] , 2 , 6858\n",
      "['APOGEE', 'LAMOST'] , 2 , 225637\n",
      "['APOGEE', 'TESS'] , 2 , 33311\n",
      "['GALAH', 'RAVE'] , 2 , 35844\n",
      "['GALAH', 'LAMOST'] , 2 , 84370\n",
      "['GALAH', 'TESS'] , 2 , 46265\n",
      "['Kepler_prot', 'LAMOST'] , 2 , 21897\n",
      "['Kepler_prot', 'TESS'] , 2 , 459\n",
      "['Kepler_nonprot', 'LAMOST'] , 2 , 51323\n",
      "['Kepler_nonprot', 'TESS'] , 2 , 234\n",
      "['RAVE', 'LAMOST'] , 2 , 15819\n",
      "['RAVE', 'TESS'] , 2 , 101767\n",
      "['LAMOST', 'TESS'] , 2 , 34766\n",
      "['APOGEE', 'GALAH', 'RAVE'] , 3 , 1176\n",
      "['APOGEE', 'GALAH', 'LAMOST'] , 3 , 5998\n",
      "['APOGEE', 'GALAH', 'TESS'] , 3 , 5953\n",
      "['APOGEE', 'Kepler_prot', 'LAMOST'] , 3 , 3396\n",
      "['APOGEE', 'Kepler_prot', 'TESS'] , 3 , 218\n",
      "['APOGEE', 'Kepler_nonprot', 'LAMOST'] , 3 , 3850\n",
      "['APOGEE', 'Kepler_nonprot', 'TESS'] , 3 , 87\n",
      "['APOGEE', 'RAVE', 'LAMOST'] , 3 , 833\n",
      "['APOGEE', 'RAVE', 'TESS'] , 3 , 5841\n",
      "['APOGEE', 'LAMOST', 'TESS'] , 3 , 3910\n",
      "['GALAH', 'RAVE', 'LAMOST'] , 3 , 799\n",
      "['GALAH', 'RAVE', 'TESS'] , 3 , 16784\n",
      "['GALAH', 'LAMOST', 'TESS'] , 3 , 316\n",
      "['Kepler_prot', 'LAMOST', 'TESS'] , 3 , 232\n",
      "['Kepler_nonprot', 'LAMOST', 'TESS'] , 3 , 127\n",
      "['RAVE', 'LAMOST', 'TESS'] , 3 , 751\n",
      "['APOGEE', 'GALAH', 'RAVE', 'LAMOST'] , 4 , 72\n",
      "['APOGEE', 'GALAH', 'RAVE', 'TESS'] , 4 , 2396\n",
      "['APOGEE', 'GALAH', 'LAMOST', 'TESS'] , 4 , 27\n",
      "['APOGEE', 'Kepler_prot', 'LAMOST', 'TESS'] , 4 , 168\n",
      "['APOGEE', 'Kepler_nonprot', 'LAMOST', 'TESS'] , 4 , 72\n",
      "['APOGEE', 'RAVE', 'LAMOST', 'TESS'] , 4 , 32\n",
      "['GALAH', 'RAVE', 'LAMOST', 'TESS'] , 4 , 27\n"
     ]
    }
   ],
   "source": [
    "# read in data\n",
    "for i in range(len(cms)):\n",
    "    # how many surveys to cm\n",
    "    cm_survey=[]\n",
    "    cm_survey.append(SurveyDic_name[cms[i][0]])\n",
    "    cm_survey.append(SurveyDic_name[cms[i][1]])\n",
    "    cmname=SurveyDic_name[cms[i][0]]+'_cm_'+SurveyDic_name[cms[i][1]]\n",
    "    cmlen=len(cms[i])\n",
    "    if cmlen>2:\n",
    "        for j in range(1,cmlen-1):\n",
    "            cm_survey.append(SurveyDic_name[cms[i][j+1]])\n",
    "            cmname=cmname+'_cm_'+SurveyDic_name[cms[i][j+1]]\n",
    "    \n",
    "    try:\n",
    "        df1df2=pd.read_pickle('Data/'+cmname+'.pkl')\n",
    "        print(cm_survey,',',cmlen,',',len(df1df2))\n",
    "    except:\n",
    "        continue"
   ]
  },
  {
   "cell_type": "code",
   "execution_count": 98,
   "metadata": {},
   "outputs": [
    {
     "data": {
      "text/plain": [
       "(0, 1)"
      ]
     },
     "execution_count": 98,
     "metadata": {},
     "output_type": "execute_result"
    }
   ],
   "source": [
    "cms[i]"
   ]
  },
  {
   "cell_type": "code",
   "execution_count": null,
   "metadata": {},
   "outputs": [],
   "source": []
  }
 ],
 "metadata": {
  "kernelspec": {
   "display_name": "Python 3",
   "language": "python",
   "name": "python3"
  },
  "language_info": {
   "codemirror_mode": {
    "name": "ipython",
    "version": 3
   },
   "file_extension": ".py",
   "mimetype": "text/x-python",
   "name": "python",
   "nbconvert_exporter": "python",
   "pygments_lexer": "ipython3",
   "version": "3.8.5"
  }
 },
 "nbformat": 4,
 "nbformat_minor": 4
}
